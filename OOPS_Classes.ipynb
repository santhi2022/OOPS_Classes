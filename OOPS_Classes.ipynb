{
 "cells": [
  {
   "cell_type": "code",
   "execution_count": 1,
   "id": "6b841a24",
   "metadata": {},
   "outputs": [],
   "source": [
    "class ClassName:\n",
    "    def createname(self,name):\n",
    "        self.name=nmae\n",
    "    def displayname(self):\n",
    "        return self.name\n",
    "    def greetname(self):\n",
    "        print(f\"Keep up the Good work,{self.name}\")\n",
    "        "
   ]
  },
  {
   "cell_type": "code",
   "execution_count": 3,
   "id": "9fd0a130",
   "metadata": {},
   "outputs": [
    {
     "name": "stdout",
     "output_type": "stream",
     "text": [
      "Santhi\n"
     ]
    }
   ],
   "source": [
    " print('Santhi')"
   ]
  },
  {
   "cell_type": "code",
   "execution_count": 6,
   "id": "93e7e4b1",
   "metadata": {},
   "outputs": [],
   "source": [
    "class ClassName:\n",
    "    def createname(self,name):\n",
    "        self.name=name\n",
    "    def displayname(self):\n",
    "        return self.name\n",
    "    def greetname(self):\n",
    "        print(f\"Hellow,{self.name}\")"
   ]
  },
  {
   "cell_type": "code",
   "execution_count": 12,
   "id": "073bd76b",
   "metadata": {},
   "outputs": [
    {
     "data": {
      "text/plain": [
       "'Padma'"
      ]
     },
     "execution_count": 12,
     "metadata": {},
     "output_type": "execute_result"
    }
   ],
   "source": [
    "test=ClassName()\n",
    "test.createname('Padma')\n",
    "test.displayname()\n"
   ]
  },
  {
   "cell_type": "code",
   "execution_count": 11,
   "id": "f62717e7",
   "metadata": {},
   "outputs": [
    {
     "name": "stdout",
     "output_type": "stream",
     "text": [
      "Hellow,Padma\n"
     ]
    }
   ],
   "source": [
    "test.greetname()"
   ]
  },
  {
   "cell_type": "code",
   "execution_count": 13,
   "id": "1429ad1a",
   "metadata": {},
   "outputs": [
    {
     "data": {
      "text/plain": [
       "'Santhi'"
      ]
     },
     "execution_count": 13,
     "metadata": {},
     "output_type": "execute_result"
    }
   ],
   "source": [
    "test2=ClassName()\n",
    "test2.createname('Santhi')\n",
    "test2.displayname()"
   ]
  },
  {
   "cell_type": "code",
   "execution_count": 14,
   "id": "8c12dd73",
   "metadata": {},
   "outputs": [
    {
     "name": "stdout",
     "output_type": "stream",
     "text": [
      "Hellow,Santhi\n"
     ]
    }
   ],
   "source": [
    "test2.greetname()"
   ]
  },
  {
   "cell_type": "code",
   "execution_count": 16,
   "id": "b2730e84",
   "metadata": {},
   "outputs": [],
   "source": [
    "class ClassName:\n",
    "    def createname(self,name,age,address):\n",
    "        self.name=name\n",
    "    def displayname(self):\n",
    "        return self.name\n",
    "    def greetname(self):\n",
    "        print(f\" Keep up the Good work,{self.name}\")"
   ]
  },
  {
   "cell_type": "code",
   "execution_count": 17,
   "id": "20dcfe56",
   "metadata": {},
   "outputs": [
    {
     "name": "stdout",
     "output_type": "stream",
     "text": [
      "Hellow,Santhi\n"
     ]
    }
   ],
   "source": [
    "test2.greetname()"
   ]
  },
  {
   "cell_type": "code",
   "execution_count": 19,
   "id": "cd85a909",
   "metadata": {},
   "outputs": [],
   "source": [
    "class ClassName:\n",
    "    def createname(self,name,age,address):\n",
    "        self.name=name\n",
    "        self.age=age\n",
    "        self.address=address\n",
    "    def displayname(self):\n",
    "        return self.name\n",
    "    def greetname(self):\n",
    "        print(f\" Keep up the Good work,{self.name}\")"
   ]
  },
  {
   "cell_type": "code",
   "execution_count": 20,
   "id": "7bceb36a",
   "metadata": {},
   "outputs": [
    {
     "name": "stdout",
     "output_type": "stream",
     "text": [
      "Hellow,Padma\n"
     ]
    }
   ],
   "source": [
    "test.greetname()"
   ]
  },
  {
   "cell_type": "code",
   "execution_count": 34,
   "id": "8b73737a",
   "metadata": {},
   "outputs": [],
   "source": [
    "class ClassName:\n",
    "    def __init__(self,name,age):\n",
    "        self.name=name\n",
    "        self.age=age\n",
    "        def sit(self):\n",
    "            print(f\"the dog is sitting\")\n",
    "        def roll_over(self):\n",
    "            print(f\" the dog is rolling over\")\n",
    "        def details(self):\n",
    "            print(f\" I have a dog named{self.name}\")\n",
    "            print(f\" It is of {self.age}years old\")"
   ]
  },
  {
   "cell_type": "code",
   "execution_count": 21,
   "id": "46256ef2",
   "metadata": {},
   "outputs": [
    {
     "ename": "NameError",
     "evalue": "name 'Dog' is not defined",
     "output_type": "error",
     "traceback": [
      "\u001b[1;31m---------------------------------------------------------------------------\u001b[0m",
      "\u001b[1;31mNameError\u001b[0m                                 Traceback (most recent call last)",
      "Input \u001b[1;32mIn [21]\u001b[0m, in \u001b[0;36m<cell line: 1>\u001b[1;34m()\u001b[0m\n\u001b[1;32m----> 1\u001b[0m my_dog\u001b[38;5;241m=\u001b[39m\u001b[43mDog\u001b[49m()\n",
      "\u001b[1;31mNameError\u001b[0m: name 'Dog' is not defined"
     ]
    }
   ],
   "source": [
    "my_dog=Dog()"
   ]
  },
  {
   "cell_type": "code",
   "execution_count": 22,
   "id": "4d9a0a1e",
   "metadata": {},
   "outputs": [
    {
     "ename": "NameError",
     "evalue": "name 'Dog' is not defined",
     "output_type": "error",
     "traceback": [
      "\u001b[1;31m---------------------------------------------------------------------------\u001b[0m",
      "\u001b[1;31mNameError\u001b[0m                                 Traceback (most recent call last)",
      "Input \u001b[1;32mIn [22]\u001b[0m, in \u001b[0;36m<cell line: 1>\u001b[1;34m()\u001b[0m\n\u001b[1;32m----> 1\u001b[0m my_dog\u001b[38;5;241m=\u001b[39m\u001b[43mDog\u001b[49m(\u001b[38;5;124m'\u001b[39m\u001b[38;5;124mbruno\u001b[39m\u001b[38;5;124m'\u001b[39m,\u001b[38;5;241m6\u001b[39m)\n\u001b[0;32m      2\u001b[0m my_dog\u001b[38;5;241m.\u001b[39msit()\n",
      "\u001b[1;31mNameError\u001b[0m: name 'Dog' is not defined"
     ]
    }
   ],
   "source": [
    "my_dog=Dog('bruno',6)\n",
    "my_dog.sit()"
   ]
  },
  {
   "cell_type": "code",
   "execution_count": 30,
   "id": "d5da3620",
   "metadata": {},
   "outputs": [
    {
     "ename": "SyntaxError",
     "evalue": "invalid syntax (289898110.py, line 1)",
     "output_type": "error",
     "traceback": [
      "\u001b[1;36m  Input \u001b[1;32mIn [30]\u001b[1;36m\u001b[0m\n\u001b[1;33m    Class Dog:\u001b[0m\n\u001b[1;37m          ^\u001b[0m\n\u001b[1;31mSyntaxError\u001b[0m\u001b[1;31m:\u001b[0m invalid syntax\n"
     ]
    }
   ],
   "source": [
    "ClassName\n",
    "    def__int__(self,name,age):\n",
    "        self.name=name\n",
    "        self.age=age\n",
    "        def sit(self):\n",
    "            print(f\"the dog is sitting\")\n",
    "        def roll_over(self):\n",
    "            print(f\" the dog is rolling over\")\n",
    "        def details(self):\n",
    "            print(f\" I have a dog named{self.name}\")\n",
    "            print(f\" It is of {self.age}years old\")"
   ]
  },
  {
   "cell_type": "code",
   "execution_count": 25,
   "id": "ebedf232",
   "metadata": {},
   "outputs": [
    {
     "ename": "NameError",
     "evalue": "name 'Dog' is not defined",
     "output_type": "error",
     "traceback": [
      "\u001b[1;31m---------------------------------------------------------------------------\u001b[0m",
      "\u001b[1;31mNameError\u001b[0m                                 Traceback (most recent call last)",
      "Input \u001b[1;32mIn [25]\u001b[0m, in \u001b[0;36m<cell line: 1>\u001b[1;34m()\u001b[0m\n\u001b[1;32m----> 1\u001b[0m my_dog\u001b[38;5;241m=\u001b[39m\u001b[43mDog\u001b[49m()\n",
      "\u001b[1;31mNameError\u001b[0m: name 'Dog' is not defined"
     ]
    }
   ],
   "source": [
    "my_dog=Dog()"
   ]
  },
  {
   "cell_type": "code",
   "execution_count": 28,
   "id": "9fbe5ff6",
   "metadata": {},
   "outputs": [
    {
     "ename": "NameError",
     "evalue": "name 'Dog' is not defined",
     "output_type": "error",
     "traceback": [
      "\u001b[1;31m---------------------------------------------------------------------------\u001b[0m",
      "\u001b[1;31mNameError\u001b[0m                                 Traceback (most recent call last)",
      "Input \u001b[1;32mIn [28]\u001b[0m, in \u001b[0;36m<cell line: 1>\u001b[1;34m()\u001b[0m\n\u001b[1;32m----> 1\u001b[0m my_Dog\u001b[38;5;241m=\u001b[39m\u001b[43mDog\u001b[49m(\u001b[38;5;124m'\u001b[39m\u001b[38;5;124mbruno\u001b[39m\u001b[38;5;124m'\u001b[39m,\u001b[38;5;241m6\u001b[39m)\n\u001b[0;32m      2\u001b[0m my_Dog\u001b[38;5;241m.\u001b[39msit()\n",
      "\u001b[1;31mNameError\u001b[0m: name 'Dog' is not defined"
     ]
    }
   ],
   "source": [
    "my_Dog=Dog('bruno',6)\n",
    "my_Dog.sit()"
   ]
  },
  {
   "cell_type": "code",
   "execution_count": null,
   "id": "68c7de5c",
   "metadata": {},
   "outputs": [],
   "source": []
  },
  {
   "cell_type": "code",
   "execution_count": null,
   "id": "dd32b084",
   "metadata": {},
   "outputs": [],
   "source": []
  },
  {
   "cell_type": "code",
   "execution_count": 35,
   "id": "a5d4c6f4",
   "metadata": {},
   "outputs": [],
   "source": [
    "class Dog:\n",
    "    def __init__(self,name,age):\n",
    "        self.name=name\n",
    "        self.age=age\n",
    "        def sit(self):\n",
    "            print(f\"the dog is sitting\")\n",
    "        def roll_over(self):\n",
    "            print(f\" the dog is rolling over\")\n",
    "        def details(self):\n",
    "            print(f\" I have a dog named{self.name}\")\n",
    "            print(f\" It is of {self.age}years old\")\n",
    "            "
   ]
  },
  {
   "cell_type": "code",
   "execution_count": 32,
   "id": "baef194b",
   "metadata": {},
   "outputs": [
    {
     "ename": "TypeError",
     "evalue": "ClassName() takes no arguments",
     "output_type": "error",
     "traceback": [
      "\u001b[1;31m---------------------------------------------------------------------------\u001b[0m",
      "\u001b[1;31mTypeError\u001b[0m                                 Traceback (most recent call last)",
      "Input \u001b[1;32mIn [32]\u001b[0m, in \u001b[0;36m<cell line: 1>\u001b[1;34m()\u001b[0m\n\u001b[1;32m----> 1\u001b[0m test\u001b[38;5;241m=\u001b[39m\u001b[43mClassName\u001b[49m\u001b[43m(\u001b[49m\u001b[38;5;124;43m'\u001b[39;49m\u001b[38;5;124;43mbruno\u001b[39;49m\u001b[38;5;124;43m'\u001b[39;49m\u001b[43m,\u001b[49m\u001b[38;5;241;43m6\u001b[39;49m\u001b[43m)\u001b[49m\n\u001b[0;32m      2\u001b[0m test\u001b[38;5;241m.\u001b[39msit()\n",
      "\u001b[1;31mTypeError\u001b[0m: ClassName() takes no arguments"
     ]
    }
   ],
   "source": [
    "test=ClassName('bruno',6)\n",
    "test.sit()"
   ]
  },
  {
   "cell_type": "code",
   "execution_count": null,
   "id": "30814a06",
   "metadata": {},
   "outputs": [],
   "source": [
    "do"
   ]
  },
  {
   "cell_type": "code",
   "execution_count": null,
   "id": "f0cdf253",
   "metadata": {},
   "outputs": [],
   "source": []
  }
 ],
 "metadata": {
  "kernelspec": {
   "display_name": "Python 3 (ipykernel)",
   "language": "python",
   "name": "python3"
  },
  "language_info": {
   "codemirror_mode": {
    "name": "ipython",
    "version": 3
   },
   "file_extension": ".py",
   "mimetype": "text/x-python",
   "name": "python",
   "nbconvert_exporter": "python",
   "pygments_lexer": "ipython3",
   "version": "3.9.12"
  }
 },
 "nbformat": 4,
 "nbformat_minor": 5
}
